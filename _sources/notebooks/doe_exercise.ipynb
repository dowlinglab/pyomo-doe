{
 "cells": [
  {
   "cell_type": "markdown",
   "metadata": {},
   "source": [
    "# Exercise: Pyomo.DoE"
   ]
  },
  {
   "cell_type": "markdown",
   "metadata": {},
   "source": []
  },
  {
   "cell_type": "code",
   "execution_count": null,
   "metadata": {},
   "outputs": [],
   "source": [
    "import sys\n",
    "# If running on Google Colab, install Pyomo and Ipopt via IDAES\n",
    "on_colab = \"google.colab\" in sys.modules\n",
    "if on_colab:\n",
    "    !wget \"https://raw.githubusercontent.com/dowlinglab/pyomo-doe/main/notebooks/tclab_pyomo.py\"\n",
    "else:\n",
    "    import os\n",
    "\n",
    "    if \"exercise_solutions\" in os.getcwd():\n",
    "        # Add the \"notebooks\" folder to the path\n",
    "        # This is needed for running the solutions from a separate folder\n",
    "        # You only need this if you run locally\n",
    "        sys.path.append('../notebooks')\n",
    "\n",
    "# import TCLab model, simulation, and data analysis functions\n",
    "from tclab_pyomo import TCLabExperiment, create_model, extract_results, extract_plot_results, results_summary\n",
    "\n",
    "# set default number of states in the TCLab model\n",
    "number_tclab_states = 2"
   ]
  },
  {
   "cell_type": "markdown",
   "metadata": {},
   "source": [
    "## Load and explore experimental data (step test)"
   ]
  },
  {
   "cell_type": "code",
   "execution_count": null,
   "metadata": {},
   "outputs": [],
   "source": [
    "import pandas as pd\n",
    "if on_colab:\n",
    "    file = \"https://raw.githubusercontent.com/dowlinglab/pyomo-doe/main/data/tclab_step_test.csv\"\n",
    "else:\n",
    "    file = '../data/tclab_step_test.csv'\n",
    "df = pd.read_csv(file)\n",
    "df.head()"
   ]
  },
  {
   "cell_type": "code",
   "execution_count": null,
   "metadata": {},
   "outputs": [],
   "source": [
    "ax = df.plot(x='Time', y=['T1', 'T2'], xlabel='Time (s)', ylabel='Temperature (°C)')"
   ]
  },
  {
   "cell_type": "code",
   "execution_count": null,
   "metadata": {},
   "outputs": [],
   "source": [
    "ax = df.plot(x='Time', y=['Q1', 'Q2'], xlabel='Time (s)', ylabel='Heater Power (%)')\n"
   ]
  },
  {
   "cell_type": "code",
   "execution_count": null,
   "metadata": {},
   "outputs": [],
   "source": [
    "tc_data = TCLabExperiment(name=\"Sine Wave Test for Heater 1\",\n",
    "                            time=df['Time'].values,\n",
    "                            T1=df['T1'].values,\n",
    "                            u1=df['Q1'].values,\n",
    "                            P1=200,\n",
    "                            TS1_data=None,\n",
    "                            T2=df['T2'].values,\n",
    "                            u2=df['Q2'].values,\n",
    "                            P2=200,\n",
    "                            TS2_data=None,\n",
    "                            Tamb=df['T1'].values[0])"
   ]
  },
  {
   "cell_type": "markdown",
   "metadata": {},
   "source": [
    "## Analyze FIM with Pyomo.DoE at initial point (step test)"
   ]
  },
  {
   "cell_type": "code",
   "execution_count": null,
   "metadata": {},
   "outputs": [],
   "source": [
    "# Load Pyomo.DoE functions\n",
    "# Add your solution here\n",
    "\n",
    "# Copied from previous notebook\n",
    "theta_values = {'Ua': 0.05147278733764012, 'Ub': 0.0005342082856927798, 'inv_CpH': 0.14622879403418604, 'inv_CpS': 99.99999754623846}"
   ]
  },
  {
   "cell_type": "code",
   "execution_count": null,
   "metadata": {},
   "outputs": [],
   "source": [
    "# Get time points for control decisions\n",
    "# Add your solution here\n",
    "\n",
    "# Define the measurement variables\n",
    "measurements = MeasurementVariables()\n",
    "# Add your solution here\n",
    "print(measurements.variable_names)"
   ]
  },
  {
   "cell_type": "code",
   "execution_count": null,
   "metadata": {},
   "outputs": [],
   "source": [
    "# Define the design variables\n",
    "decisions = DesignVariables()\n",
    "\n",
    "# Add your solution here\n",
    "\n",
    "print(decisions.variable_names)"
   ]
  },
  {
   "cell_type": "code",
   "execution_count": null,
   "metadata": {},
   "outputs": [],
   "source": [
    "# Define create_model function for Pyomo.DoE\n",
    "\n",
    "# Add your solution here"
   ]
  },
  {
   "cell_type": "code",
   "execution_count": null,
   "metadata": {},
   "outputs": [],
   "source": [
    "# Create doe_object using DesignOfExperiments\n",
    "\n",
    "# Add your solution here\n",
    "\n",
    "# Compute and print the FIM at this point\n",
    "# Add your solution here"
   ]
  },
  {
   "cell_type": "code",
   "execution_count": null,
   "metadata": {},
   "outputs": [],
   "source": [
    "# Call out custome function to summarize the results\n",
    "# and compute the eigendecomposition of the FIM\n",
    "\n",
    "results_summary(result)"
   ]
  },
  {
   "cell_type": "markdown",
   "metadata": {},
   "source": [
    "## Optimize the next experiment (D-optimality)"
   ]
  },
  {
   "cell_type": "code",
   "execution_count": null,
   "metadata": {},
   "outputs": [],
   "source": [
    "# Extract the prior FIM and Jacobian information from the previous\n",
    "# result to use for initialization.\n",
    "# Add your solution here\n",
    "\n",
    "# Set Ipopt options\n",
    "solver = SolverFactory('ipopt')\n",
    "#solver.options['bound_push'] = 1E-10\n",
    "solver.options['halt_on_ampl_error'] = 'yes'\n",
    "#solver.options['tol'] = 1E-5\n",
    "#solver.options['acceptable_tol'] = 1E-4\n",
    "#solver.options['max_iter'] = 100\n",
    "solver.options['linear_solver'] = 'ma57'\n",
    "\n",
    "# Create a new DoE object\n",
    "# Add your solution here\n",
    "\n",
    "# Solve the DoE problem\n",
    "# Add your solution here"
   ]
  },
  {
   "cell_type": "code",
   "execution_count": null,
   "metadata": {},
   "outputs": [],
   "source": [
    "# Extract and plot the results using our custom function\n",
    "# Add your solution here"
   ]
  },
  {
   "cell_type": "code",
   "execution_count": null,
   "metadata": {},
   "outputs": [],
   "source": [
    "# Compute the FIM at the optimal solution\n",
    "# Add your solution here"
   ]
  },
  {
   "cell_type": "markdown",
   "metadata": {},
   "source": [
    "## Optimize the next experiment (A-optimality)"
   ]
  },
  {
   "cell_type": "code",
   "execution_count": null,
   "metadata": {},
   "outputs": [],
   "source": [
    "# Create a new DoE object\n",
    "# Add your solution here\n",
    "\n",
    "# Solve the DoE problem\n",
    "# Add your solution here"
   ]
  },
  {
   "cell_type": "code",
   "execution_count": null,
   "metadata": {},
   "outputs": [],
   "source": []
  },
  {
   "cell_type": "code",
   "execution_count": null,
   "metadata": {},
   "outputs": [],
   "source": [
    "# Extract and plot the results using our custom function\n",
    "# Add your solution here"
   ]
  },
  {
   "cell_type": "code",
   "execution_count": null,
   "metadata": {},
   "outputs": [],
   "source": [
    "# Compute the FIM at the optimal solution\n",
    "# Add your solution here"
   ]
  },
  {
   "cell_type": "markdown",
   "metadata": {},
   "source": []
  }
 ],
 "metadata": {
  "kernelspec": {
   "display_name": "summer2024",
   "language": "python",
   "name": "python3"
  },
  "language_info": {
   "codemirror_mode": {
    "name": "ipython",
    "version": 3
   },
   "file_extension": ".py",
   "mimetype": "text/x-python",
   "name": "python",
   "nbconvert_exporter": "python",
   "pygments_lexer": "ipython3",
   "version": "3.10.14"
  }
 },
 "nbformat": 4,
 "nbformat_minor": 2
}
