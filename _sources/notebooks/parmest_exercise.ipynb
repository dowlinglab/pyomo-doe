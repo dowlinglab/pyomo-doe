{
 "cells": [
  {
   "cell_type": "markdown",
   "metadata": {},
   "source": [
    "# Exercise: ParmEst"
   ]
  },
  {
   "cell_type": "markdown",
   "metadata": {},
   "source": []
  },
  {
   "cell_type": "code",
   "execution_count": null,
   "metadata": {},
   "outputs": [],
   "source": [
    "# import TCLab model, simulation, and data analysis functions\n",
    "\n",
    "# Add your solution here\n",
    "\n",
    "# set default number of states in the TCLab model\n",
    "number_tclab_states = 2"
   ]
  },
  {
   "cell_type": "markdown",
   "metadata": {},
   "source": [
    "## Load and explore experimental data"
   ]
  },
  {
   "cell_type": "code",
   "execution_count": null,
   "metadata": {},
   "outputs": [],
   "source": [
    "import pandas as pd\n",
    "file = 'https://raw.githubusercontent.com/dowlinglab/pyomo-doe/main/notebooks/data/tclab_step_test.csv'\n",
    "df = pd.read_csv(file)\n",
    "df.head()"
   ]
  },
  {
   "cell_type": "markdown",
   "metadata": {},
   "source": [
    "Make two plots to visualize the temperature and heat power data as a function of time."
   ]
  },
  {
   "cell_type": "code",
   "execution_count": null,
   "metadata": {},
   "outputs": [],
   "source": [
    "# Add your solution here"
   ]
  },
  {
   "cell_type": "code",
   "execution_count": null,
   "metadata": {},
   "outputs": [],
   "source": [
    "# Add your solution here"
   ]
  },
  {
   "cell_type": "markdown",
   "metadata": {},
   "source": [
    "We'll now store the data in this custom *data class* objective. This is a nice trick to help keep data organized, but it is NOT required to use ParmEst or Pyomo data. Alternatively, we could just use a pandas DataFrame."
   ]
  },
  {
   "cell_type": "code",
   "execution_count": null,
   "metadata": {},
   "outputs": [],
   "source": [
    "tc_data = TCLabExperiment(name=\"Sine Wave Test for Heater 1\",\n",
    "                            time=df['Time'].values,\n",
    "                            T1=df['T1'].values,\n",
    "                            u1=df['Q1'].values,\n",
    "                            P1=200,\n",
    "                            TS1_data=None,\n",
    "                            d1 = None,\n",
    "                            T2=df['T2'].values,\n",
    "                            u2=df['Q2'].values,\n",
    "                            P2=200,\n",
    "                            TS2_data=None,\n",
    "                            d2 = None,\n",
    "                            Tamb=df['T1'].values[0])"
   ]
  },
  {
   "cell_type": "markdown",
   "metadata": {},
   "source": [
    "Our custom data class has a method to export the data as a Pandas Data Frame."
   ]
  },
  {
   "cell_type": "code",
   "execution_count": null,
   "metadata": {},
   "outputs": [],
   "source": [
    "tc_data.to_data_frame().head()"
   ]
  },
  {
   "cell_type": "markdown",
   "metadata": {},
   "source": [
    "## Parameter Estimation with ParmEst\n",
    "\n",
    "Now for the main event: performing nonlinear least squares with ParmEst and estimating the covariance matrix."
   ]
  },
  {
   "cell_type": "code",
   "execution_count": null,
   "metadata": {},
   "outputs": [],
   "source": [
    "# Call ParmEst\n",
    "# Add your solution here\n",
    "\n",
    "# Visualize the results using our custom function\n",
    "# Add your solution here\n",
    "\n",
    "# Print the covariance matrix\n",
    "print(\"Covariance matrix:\")\n",
    "### BEGIN SOLTUION\n",
    "print(cov)\n",
    "### END SOLUTION"
   ]
  }
 ],
 "metadata": {
  "kernelspec": {
   "display_name": "summer2024",
   "language": "python",
   "name": "python3"
  },
  "language_info": {
   "codemirror_mode": {
    "name": "ipython",
    "version": 3
   },
   "file_extension": ".py",
   "mimetype": "text/x-python",
   "name": "python",
   "nbconvert_exporter": "python",
   "pygments_lexer": "ipython3",
   "version": "3.10.14"
  }
 },
 "nbformat": 4,
 "nbformat_minor": 2
}
