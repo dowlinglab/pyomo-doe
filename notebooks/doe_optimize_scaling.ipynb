{
 "cells": [
  {
   "cell_type": "markdown",
   "metadata": {},
   "source": [
    "# Pyomo.DoE: Optimization\n",
    "\n",
    "Our [earlier exploratory analysis](./doe_exploratory_analysis.ipynb) showed the sine wave experiment alone is rank deficient. What if instead of optimizing the sine wave parameters $a$ and $p$, we directly optimize $u(t)$. In other words, we will formulate model-based design of experiments as an [optimal control problem](./pyomo_simulation.ipynb).\n",
    "\n",
    "Maximize a scalar-valued function $\\psi(\\cdot)$ of the Fisher information matrix $\\mathbf{M}$:\n",
    "\n",
    "$$\n",
    "\\begin{align*}\n",
    "\\max_{u} \\quad & \\psi(\\mathbf{M}(u) + \\mathbf{M}_0) \\\\\n",
    "\\mathrm{s.t.} \\quad & C_p^H \\frac{dT_H}{dt} = U_a (T_{amb} - T_H) + U_b (T_S - T_H) + \\alpha P u(t)\\\\\n",
    "& C_p^S \\frac{dT_S}{dt} = U_b (T_H - T_S)  \\\\\n",
    "& 0\\% \\leq u(t) \\leq 100 \\% \\\\\n",
    "& T_H(t_0) = T_{amb} \\\\\n",
    "& T_S(t_0) = T_{amb}\n",
    "\\end{align*}\n",
    "$$\n",
    "\n",
    "`Pyomo.DoE` automatically formulates, initializes, and solves this optimization problem for $\\psi(\\cdot) = \\log_{10}(\\mathrm{trace}(\\cdot))$, i.e., A-optimality, and $\\psi(\\cdot) = \\log_{10}(\\mathrm{det}(\\cdot))$, i.e., D-optimality."
   ]
  },
  {
   "cell_type": "code",
   "execution_count": null,
   "metadata": {},
   "outputs": [],
   "source": [
    "import sys\n",
    "\n",
    "# If running on Google Colab, install Pyomo and Ipopt via IDAES\n",
    "on_colab = \"google.colab\" in sys.modules\n",
    "if on_colab:\n",
    "    !wget \"https://raw.githubusercontent.com/dowlinglab/pyomo-doe/main/notebooks/tclab_pyomo.py\"\n",
    "else:\n",
    "    # Load Ipopt\n",
    "    import idaes\n",
    "\n",
    "# import TCLab model, simulation, and data analysis functions\n",
    "from tclab_pyomo import (\n",
    "    TC_Lab_data,\n",
    "    TC_Lab_experiment,\n",
    "    extract_results,\n",
    "    extract_plot_results,\n",
    "    results_summary,\n",
    ")\n",
    "\n",
    "# set default number of states in the TCLab model\n",
    "number_tclab_states = 2"
   ]
  },
  {
   "cell_type": "markdown",
   "metadata": {},
   "source": [
    "## Load experimental data (sine test)\n",
    "\n",
    "We will load the sine test data to serve as an initial point. Recall our create model function will use supplied data to initialize the Pyomo model. Carefully initialization is often required for optimization of large-scale dynamic systems."
   ]
  },
  {
   "cell_type": "code",
   "execution_count": 2,
   "metadata": {},
   "outputs": [
    {
     "data": {
      "text/html": [
       "<div>\n",
       "<style scoped>\n",
       "    .dataframe tbody tr th:only-of-type {\n",
       "        vertical-align: middle;\n",
       "    }\n",
       "\n",
       "    .dataframe tbody tr th {\n",
       "        vertical-align: top;\n",
       "    }\n",
       "\n",
       "    .dataframe thead th {\n",
       "        text-align: right;\n",
       "    }\n",
       "</style>\n",
       "<table border=\"1\" class=\"dataframe\">\n",
       "  <thead>\n",
       "    <tr style=\"text-align: right;\">\n",
       "      <th></th>\n",
       "      <th>Time</th>\n",
       "      <th>T1</th>\n",
       "      <th>T2</th>\n",
       "      <th>Q1</th>\n",
       "      <th>Q2</th>\n",
       "    </tr>\n",
       "  </thead>\n",
       "  <tbody>\n",
       "    <tr>\n",
       "      <th>0</th>\n",
       "      <td>0.00</td>\n",
       "      <td>22.2</td>\n",
       "      <td>22.2</td>\n",
       "      <td>50</td>\n",
       "      <td>0</td>\n",
       "    </tr>\n",
       "    <tr>\n",
       "      <th>1</th>\n",
       "      <td>1.01</td>\n",
       "      <td>22.2</td>\n",
       "      <td>22.2</td>\n",
       "      <td>51</td>\n",
       "      <td>0</td>\n",
       "    </tr>\n",
       "    <tr>\n",
       "      <th>2</th>\n",
       "      <td>2.01</td>\n",
       "      <td>22.2</td>\n",
       "      <td>22.2</td>\n",
       "      <td>52</td>\n",
       "      <td>0</td>\n",
       "    </tr>\n",
       "    <tr>\n",
       "      <th>3</th>\n",
       "      <td>3.00</td>\n",
       "      <td>22.2</td>\n",
       "      <td>22.2</td>\n",
       "      <td>53</td>\n",
       "      <td>0</td>\n",
       "    </tr>\n",
       "    <tr>\n",
       "      <th>4</th>\n",
       "      <td>4.01</td>\n",
       "      <td>22.2</td>\n",
       "      <td>22.2</td>\n",
       "      <td>54</td>\n",
       "      <td>0</td>\n",
       "    </tr>\n",
       "  </tbody>\n",
       "</table>\n",
       "</div>"
      ],
      "text/plain": [
       "   Time    T1    T2  Q1  Q2\n",
       "0  0.00  22.2  22.2  50   0\n",
       "1  1.01  22.2  22.2  51   0\n",
       "2  2.01  22.2  22.2  52   0\n",
       "3  3.00  22.2  22.2  53   0\n",
       "4  4.01  22.2  22.2  54   0"
      ]
     },
     "execution_count": 2,
     "metadata": {},
     "output_type": "execute_result"
    }
   ],
   "source": [
    "import pandas as pd\n",
    "\n",
    "if on_colab:\n",
    "    file = \"https://raw.githubusercontent.com/dowlinglab/pyomo-doe/main/data/tclab_sine_test_5min_period.csv\"\n",
    "else:\n",
    "    file = '../data/tclab_sine_test_5min_period.csv'\n",
    "df = pd.read_csv(file)\n",
    "df.head()"
   ]
  },
  {
   "cell_type": "markdown",
   "metadata": {},
   "source": [
    "For completeness, we will visualize the data again."
   ]
  },
  {
   "cell_type": "code",
   "execution_count": 3,
   "metadata": {},
   "outputs": [
    {
     "data": {
      "image/png": "[encoded data removed]",
      "text/plain": [
       "<Figure size 640x480 with 1 Axes>"
      ]
     },
     "metadata": {},
     "output_type": "display_data"
    }
   ],
   "source": [
    "ax = df.plot(x='Time', y=['T1', 'T2'], xlabel='Time (s)', ylabel='Temperature (°C)')"
   ]
  },
  {
   "cell_type": "code",
   "execution_count": 4,
   "metadata": {},
   "outputs": [
    {
     "data": {
      "image/png": "[encoded data removed]",
      "text/plain": [
       "<Figure size 640x480 with 1 Axes>"
      ]
     },
     "metadata": {},
     "output_type": "display_data"
    }
   ],
   "source": [
    "ax = df.plot(x='Time', y=['Q1', 'Q2'], xlabel='Time (s)', ylabel='Heater Power (%)')"
   ]
  },
  {
   "cell_type": "markdown",
   "metadata": {},
   "source": [
    "And then we will store the data in an instance of our `TC_Lab_data` dataclass."
   ]
  },
  {
   "cell_type": "code",
   "execution_count": 5,
   "metadata": {},
   "outputs": [],
   "source": [
    "# Here, we will induce a step size of 6 seconds, as to not give too many \n",
    "# degrees of freedom for experimental design.\n",
    "skip = 6\n",
    "\n",
    "# Create the data object considering the new control points every 6 seconds\n",
    "tc_data = TC_Lab_data(\n",
    "    name=\"Sine Wave Test for Heater 1\",\n",
    "    time=df['Time'].values[::skip],\n",
    "    T1=df['T1'].values[::skip],\n",
    "    u1=df['Q1'].values[::skip],\n",
    "    P1=200,\n",
    "    TS1_data=None,\n",
    "    T2=df['T2'].values[::skip],\n",
    "    u2=df['Q2'].values[::skip],\n",
    "    P2=200,\n",
    "    TS2_data=None,\n",
    "    Tamb=df['T1'].values[0],\n",
    ")"
   ]
  },
  {
   "cell_type": "markdown",
   "metadata": {},
   "source": [
    "## Calculate FIM at initial point (sine test)"
   ]
  },
  {
   "cell_type": "markdown",
   "metadata": {},
   "source": [
    "We will start computing the FIM of the sine test experiment."
   ]
  },
  {
   "cell_type": "code",
   "execution_count": 6,
   "metadata": {},
   "outputs": [],
   "source": [
    "# Load Pyomo.DoE class\n",
    "from pyomo.contrib.doe import DesignOfExperiments\n",
    "\n",
    "from pyomo.environ import SolverFactory\n",
    "\n",
    "# Copied from previous notebook\n",
    "theta_values = {\n",
    "    'Ua': 0.0417051733576387,\n",
    "    'Ub': 0.009440714239773074,\n",
    "    'inv_CpH': 0.1659093525658045,\n",
    "    'inv_CpS': 5.8357556063605465,\n",
    "}"
   ]
  },
  {
   "cell_type": "code",
   "execution_count": 7,
   "metadata": {},
   "outputs": [
    {
     "name": "stdout",
     "output_type": "stream",
     "text": [
      "WARNING: Could not locate the 'ipopt' executable, which is required for solver\n",
      "ipopt\n"
     ]
    },
    {
     "ename": "RuntimeError",
     "evalue": "Model from experiment did not solve appropriately. Make sure the model is well-posed.",
     "output_type": "error",
     "traceback": [
      "\u001b[0;31m---------------------------------------------------------------------------\u001b[0m",
      "\u001b[0;31mApplicationError\u001b[0m                          Traceback (most recent call last)",
      "File \u001b[0;32m/opt/anaconda3/envs/controls/lib/python3.10/site-packages/pyomo/contrib/doe/doe.py:545\u001b[0m, in \u001b[0;36mDesignOfExperiments._sequential_FIM\u001b[0;34m(self, model)\u001b[0m\n\u001b[1;32m    544\u001b[0m \u001b[38;5;28;01mtry\u001b[39;00m:\n\u001b[0;32m--> 545\u001b[0m     res \u001b[38;5;241m=\u001b[39m \u001b[38;5;28;43mself\u001b[39;49m\u001b[38;5;241;43m.\u001b[39;49m\u001b[43msolver\u001b[49m\u001b[38;5;241;43m.\u001b[39;49m\u001b[43msolve\u001b[49m\u001b[43m(\u001b[49m\u001b[43mmodel\u001b[49m\u001b[43m)\u001b[49m\n\u001b[1;32m    546\u001b[0m     pyo\u001b[38;5;241m.\u001b[39massert_optimal_termination(res)\n",
      "File \u001b[0;32m/opt/anaconda3/envs/controls/lib/python3.10/site-packages/pyomo/opt/base/solvers.py:534\u001b[0m, in \u001b[0;36mOptSolver.solve\u001b[0;34m(self, *args, **kwds)\u001b[0m\n\u001b[1;32m    532\u001b[0m \u001b[38;5;250m\u001b[39m\u001b[38;5;124;03m\"\"\"Solve the problem\"\"\"\u001b[39;00m\n\u001b[0;32m--> 534\u001b[0m \u001b[38;5;28;43mself\u001b[39;49m\u001b[38;5;241;43m.\u001b[39;49m\u001b[43mavailable\u001b[49m\u001b[43m(\u001b[49m\u001b[43mexception_flag\u001b[49m\u001b[38;5;241;43m=\u001b[39;49m\u001b[38;5;28;43;01mTrue\u001b[39;49;00m\u001b[43m)\u001b[49m\n\u001b[1;32m    535\u001b[0m \u001b[38;5;66;03m#\u001b[39;00m\n\u001b[1;32m    536\u001b[0m \u001b[38;5;66;03m# If the inputs are models, then validate that they have been\u001b[39;00m\n\u001b[1;32m    537\u001b[0m \u001b[38;5;66;03m# constructed! Collect suffix names to try and import from solution.\u001b[39;00m\n\u001b[1;32m    538\u001b[0m \u001b[38;5;66;03m#\u001b[39;00m\n",
      "File \u001b[0;32m/opt/anaconda3/envs/controls/lib/python3.10/site-packages/pyomo/opt/solver/shellcmd.py:140\u001b[0m, in \u001b[0;36mSystemCallSolver.available\u001b[0;34m(self, exception_flag)\u001b[0m\n\u001b[1;32m    139\u001b[0m     msg \u001b[38;5;241m=\u001b[39m \u001b[38;5;124m\"\u001b[39m\u001b[38;5;124mNo executable found for solver \u001b[39m\u001b[38;5;124m'\u001b[39m\u001b[38;5;132;01m%s\u001b[39;00m\u001b[38;5;124m'\u001b[39m\u001b[38;5;124m\"\u001b[39m\n\u001b[0;32m--> 140\u001b[0m     \u001b[38;5;28;01mraise\u001b[39;00m ApplicationError(msg \u001b[38;5;241m%\u001b[39m \u001b[38;5;28mself\u001b[39m\u001b[38;5;241m.\u001b[39mname)\n\u001b[1;32m    141\u001b[0m \u001b[38;5;28;01mreturn\u001b[39;00m \u001b[38;5;28;01mFalse\u001b[39;00m\n",
      "\u001b[0;31mApplicationError\u001b[0m: No executable found for solver 'ipopt'",
      "\nDuring handling of the above exception, another exception occurred:\n",
      "\u001b[0;31mRuntimeError\u001b[0m                              Traceback (most recent call last)",
      "Cell \u001b[0;32mIn[7], line 11\u001b[0m\n\u001b[1;32m      4\u001b[0m \u001b[38;5;66;03m# Create the design of experiments object using our experiment instance from above\u001b[39;00m\n\u001b[1;32m      5\u001b[0m TC_Lab_DoE \u001b[38;5;241m=\u001b[39m DesignOfExperiments(experiment\u001b[38;5;241m=\u001b[39mdoe_experiment, \n\u001b[1;32m      6\u001b[0m                                  step\u001b[38;5;241m=\u001b[39m\u001b[38;5;241m1e-2\u001b[39m,\n\u001b[1;32m      7\u001b[0m                                  scale_constant_value\u001b[38;5;241m=\u001b[39m\u001b[38;5;241m1\u001b[39m,\n\u001b[1;32m      8\u001b[0m                                  scale_nominal_param_value\u001b[38;5;241m=\u001b[39m\u001b[38;5;28;01mTrue\u001b[39;00m, \n\u001b[1;32m      9\u001b[0m                                  tee\u001b[38;5;241m=\u001b[39m\u001b[38;5;28;01mTrue\u001b[39;00m,)\n\u001b[0;32m---> 11\u001b[0m FIM \u001b[38;5;241m=\u001b[39m \u001b[43mTC_Lab_DoE\u001b[49m\u001b[38;5;241;43m.\u001b[39;49m\u001b[43mcompute_FIM\u001b[49m\u001b[43m(\u001b[49m\u001b[43mmethod\u001b[49m\u001b[38;5;241;43m=\u001b[39;49m\u001b[38;5;124;43m'\u001b[39;49m\u001b[38;5;124;43msequential\u001b[39;49m\u001b[38;5;124;43m'\u001b[39;49m\u001b[43m)\u001b[49m\n",
      "File \u001b[0;32m/opt/anaconda3/envs/controls/lib/python3.10/site-packages/pyomo/contrib/doe/doe.py:453\u001b[0m, in \u001b[0;36mDesignOfExperiments.compute_FIM\u001b[0;34m(self, model, method)\u001b[0m\n\u001b[1;32m    449\u001b[0m \u001b[38;5;66;03m# TODO: Add a check to see if the model has an objective and deactivate it.\u001b[39;00m\n\u001b[1;32m    450\u001b[0m \u001b[38;5;66;03m#       This solve should only be a square solve without any obj function.\u001b[39;00m\n\u001b[1;32m    452\u001b[0m \u001b[38;5;28;01mif\u001b[39;00m method \u001b[38;5;241m==\u001b[39m \u001b[38;5;124m\"\u001b[39m\u001b[38;5;124msequential\u001b[39m\u001b[38;5;124m\"\u001b[39m:\n\u001b[0;32m--> 453\u001b[0m     \u001b[38;5;28;43mself\u001b[39;49m\u001b[38;5;241;43m.\u001b[39;49m\u001b[43m_sequential_FIM\u001b[49m\u001b[43m(\u001b[49m\u001b[43mmodel\u001b[49m\u001b[38;5;241;43m=\u001b[39;49m\u001b[43mmodel\u001b[49m\u001b[43m)\u001b[49m\n\u001b[1;32m    454\u001b[0m     \u001b[38;5;28mself\u001b[39m\u001b[38;5;241m.\u001b[39m_computed_FIM \u001b[38;5;241m=\u001b[39m \u001b[38;5;28mself\u001b[39m\u001b[38;5;241m.\u001b[39mseq_FIM\n\u001b[1;32m    455\u001b[0m \u001b[38;5;28;01melif\u001b[39;00m method \u001b[38;5;241m==\u001b[39m \u001b[38;5;124m\"\u001b[39m\u001b[38;5;124mkaug\u001b[39m\u001b[38;5;124m\"\u001b[39m:\n",
      "File \u001b[0;32m/opt/anaconda3/envs/controls/lib/python3.10/site-packages/pyomo/contrib/doe/doe.py:550\u001b[0m, in \u001b[0;36mDesignOfExperiments._sequential_FIM\u001b[0;34m(self, model)\u001b[0m\n\u001b[1;32m    546\u001b[0m     pyo\u001b[38;5;241m.\u001b[39massert_optimal_termination(res)\n\u001b[1;32m    547\u001b[0m \u001b[38;5;28;01mexcept\u001b[39;00m:\n\u001b[1;32m    548\u001b[0m     \u001b[38;5;66;03m# TODO: Make error message more verbose, i.e., add unknown parameter values so the\u001b[39;00m\n\u001b[1;32m    549\u001b[0m     \u001b[38;5;66;03m# user can try to solve the model instance outside of the pyomo.DoE framework.\u001b[39;00m\n\u001b[0;32m--> 550\u001b[0m     \u001b[38;5;28;01mraise\u001b[39;00m \u001b[38;5;167;01mRuntimeError\u001b[39;00m(\n\u001b[1;32m    551\u001b[0m         \u001b[38;5;124m\"\u001b[39m\u001b[38;5;124mModel from experiment did not solve appropriately. Make sure the model is well-posed.\u001b[39m\u001b[38;5;124m\"\u001b[39m\n\u001b[1;32m    552\u001b[0m     )\n\u001b[1;32m    554\u001b[0m \u001b[38;5;66;03m# Extract the measurement values for the scenario and append\u001b[39;00m\n\u001b[1;32m    555\u001b[0m measurement_vals\u001b[38;5;241m.\u001b[39mappend(\n\u001b[1;32m    556\u001b[0m     [pyo\u001b[38;5;241m.\u001b[39mvalue(k) \u001b[38;5;28;01mfor\u001b[39;00m k, v \u001b[38;5;129;01min\u001b[39;00m model\u001b[38;5;241m.\u001b[39mexperiment_outputs\u001b[38;5;241m.\u001b[39mitems()]\n\u001b[1;32m    557\u001b[0m )\n",
      "\u001b[0;31mRuntimeError\u001b[0m: Model from experiment did not solve appropriately. Make sure the model is well-posed."
     ]
    }
   ],
   "source": [
    "# Create experiment object for design of experiments\n",
    "doe_experiment = TC_Lab_experiment(data=tc_data, theta_initial=theta_values, number_of_states=number_tclab_states)\n",
    "\n",
    "# Create the design of experiments object using our experiment instance from above\n",
    "TC_Lab_DoE = DesignOfExperiments(experiment=doe_experiment, \n",
    "                                 step=1e-2,\n",
    "                                 scale_constant_value=1,\n",
    "                                 scale_nominal_param_value=True, \n",
    "                                 tee=True,)\n",
    "\n",
    "FIM = TC_Lab_DoE.compute_FIM(method='sequential')"
   ]
  },
  {
   "cell_type": "markdown",
   "metadata": {},
   "source": [
    "Finally, we will look at the eigendecomposition using the helper function `results_summary` defined in `tclab_pyomo.py`."
   ]
  },
  {
   "cell_type": "code",
   "execution_count": null,
   "metadata": {},
   "outputs": [],
   "source": [
    "results_summary(FIM)"
   ]
  },
  {
   "cell_type": "markdown",
   "metadata": {},
   "source": [
    "## Optimize next experiment (D-optimality)"
   ]
  },
  {
   "cell_type": "markdown",
   "metadata": {},
   "source": [
    "### No Output Scaling"
   ]
  },
  {
   "cell_type": "markdown",
   "metadata": {},
   "source": [
    "We are now ready to solve the optimization problem! Notice we create a new `DesignOfExperiments` object and specify the `prior_FIM` as result for the sine wave test. Thus we are decided what is the next best experiment to conduct. We already completed to sine test; we should use the data!"
   ]
  },
  {
   "cell_type": "code",
   "execution_count": null,
   "metadata": {
    "scrolled": true
   },
   "outputs": [],
   "source": [
    "# Create experiment object for design of experiments\n",
    "doe_experiment = TC_Lab_experiment(data=tc_data, theta_initial=theta_values, number_of_states=number_tclab_states)\n",
    "\n",
    "# Create the design of experiments object using our experiment instance from above\n",
    "TC_Lab_DoE_D = DesignOfExperiments(experiment=doe_experiment, \n",
    "                                 step=1e-2,\n",
    "                                 scale_constant_value=1,\n",
    "                                 scale_nominal_param_value=True,\n",
    "                                 objective_option=\"determinant\",  # Now we specify a type of objective, D-opt = \"determinant\"\n",
    "                                 prior_FIM=FIM,  # We use the prior information from the existing experiment!\n",
    "                                 tee=True,)\n",
    "\n",
    "TC_Lab_DoE_D.run_doe()"
   ]
  },
  {
   "cell_type": "markdown",
   "metadata": {},
   "source": [
    "Now let's visualize the optimal experiment."
   ]
  },
  {
   "cell_type": "code",
   "execution_count": null,
   "metadata": {},
   "outputs": [],
   "source": [
    "dopt_pyomo_doe_results = extract_plot_results(None, TC_Lab_DoE_D.model.scenario_blocks[0])"
   ]
  },
  {
   "cell_type": "markdown",
   "metadata": {},
   "source": [
    "Fascinating. The D-optimal experiment is close to a square wave that fluctuates between maximum power and off. The square wave transitions from full power to off when the predicted sensor temperature reaches ~85 °C. Likewise, the heater turns back on when the sensor cools to ~60 °C. Then the following cycle allows the sensor to return to 40 °C. This experiment captures two cooling cycles and almost three full heating events."
   ]
  },
  {
   "cell_type": "markdown",
   "metadata": {},
   "source": [
    "Finally, let's analyze the predicted FIM of the new optimized experiment plus the existing sine wave experiment."
   ]
  },
  {
   "cell_type": "code",
   "execution_count": null,
   "metadata": {},
   "outputs": [],
   "source": [
    "results_summary(TC_Lab_DoE_D.results['FIM'])"
   ]
  },
  {
   "cell_type": "markdown",
   "metadata": {},
   "source": [
    "Success. The FIM of the new optimized experiment and the existing sine wave experiment is not rank deficient! We see from the eigendecomposition we still have the least information about parameter $C_p^S$. However, these results suggest we can uniquely estimate all four parameters using just two experiments."
   ]
  },
  {
   "cell_type": "markdown",
   "metadata": {},
   "source": [
    "### Output Scaling 1E-1"
   ]
  },
  {
   "cell_type": "code",
   "execution_count": null,
   "metadata": {},
   "outputs": [],
   "source": [
    "def max_dopt_with_scaling(scaling_factor=1):\n",
    "\n",
    "    print(\"Considering scaling factor of\", scaling_factor)\n",
    "\n",
    "    prior = FIM * scaling_factor**2\n",
    "\n",
    "    TC_Lab_DoE_D = DesignOfExperiments(experiment=doe_experiment, \n",
    "                                    step=1e-2,\n",
    "                                    scale_constant_value=0.1,\n",
    "                                    scale_nominal_param_value=True,\n",
    "                                    objective_option=\"determinant\",  # Now we specify a type of objective, D-opt = \"determinant\"\n",
    "                                    prior_FIM=prior,  # We use the prior information from the existing experiment!\n",
    "                                    tee=True,)\n",
    "\n",
    "    TC_Lab_DoE_D.run_doe()\n",
    "\n",
    "    extract_plot_results(None, TC_Lab_DoE_D.model.scenario_blocks[0])\n",
    "\n",
    "    print(\"Results Summary with scaled FIM:\")\n",
    "    results_summary(TC_Lab_DoE_D.results['FIM'])\n",
    "\n",
    "    print(\"Results Summary after unscaling FIM:\")\n",
    "    results_summary(TC_Lab_DoE_D.results['FIM'] / scaling_factor**(2*4))\n",
    "\n",
    "    return TC_Lab_DoE_D\n",
    "\n",
    "max_dopt_with_scaling(0.1)\n"
   ]
  },
  {
   "cell_type": "markdown",
   "metadata": {},
   "source": [
    "### Output Scaling 5E-2"
   ]
  },
  {
   "cell_type": "code",
   "execution_count": null,
   "metadata": {},
   "outputs": [],
   "source": [
    "max_dopt_with_scaling(0.05)"
   ]
  },
  {
   "cell_type": "markdown",
   "metadata": {},
   "source": [
    "### Output Scaling 1E-2"
   ]
  },
  {
   "cell_type": "code",
   "execution_count": null,
   "metadata": {},
   "outputs": [],
   "source": [
    "max_dopt_with_scaling(0.01)"
   ]
  },
  {
   "cell_type": "markdown",
   "metadata": {},
   "source": [
    "### Output Scaling 5E-3"
   ]
  },
  {
   "cell_type": "code",
   "execution_count": null,
   "metadata": {},
   "outputs": [],
   "source": [
    "max_dopt_with_scaling(0.005)"
   ]
  },
  {
   "cell_type": "markdown",
   "metadata": {},
   "source": [
    "### Output Scaling 1E-3"
   ]
  },
  {
   "cell_type": "code",
   "execution_count": null,
   "metadata": {},
   "outputs": [],
   "source": [
    "max_dopt_with_scaling(0.001)"
   ]
  },
  {
   "cell_type": "markdown",
   "metadata": {},
   "source": [
    "## Optimize next experiment (A-optimality)"
   ]
  },
  {
   "cell_type": "markdown",
   "metadata": {},
   "source": [
    "Next, we will consider A-optimality."
   ]
  },
  {
   "cell_type": "code",
   "execution_count": null,
   "metadata": {},
   "outputs": [],
   "source": [
    "# Create experiment object for design of experiments\n",
    "doe_experiment = TC_Lab_experiment(data=tc_data, theta_initial=theta_values, number_of_states=number_tclab_states)\n",
    "\n",
    "# Create the design of experiments object using our experiment instance from above\n",
    "TC_Lab_DoE_A = DesignOfExperiments(experiment=doe_experiment, \n",
    "                                 step=1e-2,\n",
    "                                 scale_constant_value=1,\n",
    "                                 scale_nominal_param_value=True,\n",
    "                                 objective_option=\"trace\",  # Now we specify a type of objective, A-opt = \"trace\"\n",
    "                                 prior_FIM=FIM,  # We use the prior information from the same existing experiment as in the D-optimal case!\n",
    "                                 tee=True,)\n",
    "\n",
    "TC_Lab_DoE_A.run_doe()"
   ]
  },
  {
   "cell_type": "code",
   "execution_count": null,
   "metadata": {},
   "outputs": [],
   "source": [
    "dopt_pyomo_doe_results = extract_plot_results(None, TC_Lab_DoE_A.model.scenario_blocks[0])"
   ]
  },
  {
   "cell_type": "markdown",
   "metadata": {},
   "source": [
    "Interestingly, we get a different optimal experiment. However, square-tooth like structure appears to emulate the first cycle in the D-optimal experiment, however achieving a higher temperature appears to be the best experiment for the A-optimal criteria."
   ]
  },
  {
   "cell_type": "code",
   "execution_count": null,
   "metadata": {},
   "outputs": [],
   "source": [
    "results_summary(TC_Lab_DoE_A.results['FIM'])"
   ]
  },
  {
   "cell_type": "markdown",
   "metadata": {},
   "source": [
    "## Sensitivity Analysis\n",
    "\n",
    "The eigendecomposition of the FIM above shows we have the least information (and thus greatest uncertainty) about parameter $C_p^S$. In fact, notice that $C_p^S$ goes to its bound in our earlier [parameter estimation](./parmest.ipynb) analysis.\n",
    "\n",
    "This uncertainty motivates performing a sensivitiy analysis of the optimal experiment design to perturbations in $C_p^S$. The code below focuses on A-optimality because it is computational less expensive, but and can easily adapted to D-optimality by changing the `objective_option`."
   ]
  },
  {
   "cell_type": "code",
   "execution_count": null,
   "metadata": {},
   "outputs": [],
   "source": [
    "import numpy as np\n",
    "\n",
    "CpS_values = np.array([0.01, 0.05, 0.1, 0.5, 1.0])\n",
    "a_opt = np.zeros((len(CpS_values)))\n",
    "u_solutions = np.zeros((len(CpS_values), len(tc_data.time)))\n",
    "Ts_solutions = np.zeros((len(CpS_values), len(tc_data.time)))\n",
    "\n",
    "for i, v in enumerate(CpS_values):\n",
    "\n",
    "    print(\"\\n********************\\nCpS = \", v, \" J/°C\")\n",
    "\n",
    "    theta_values_new = theta_values.copy()\n",
    "    theta_values_new['inv_CpS'] = 1 / v\n",
    "\n",
    "    # Create experiment object for design of experiments\n",
    "    doe_experiment = TC_Lab_experiment(data=tc_data, theta_initial=theta_values_new, number_of_states=number_tclab_states)\n",
    "    \n",
    "    # Create the design of experiments object using our experiment instance from above\n",
    "    TC_Lab_DoE = DesignOfExperiments(experiment=doe_experiment, \n",
    "                                     step=1e-2,\n",
    "                                     scale_constant_value=1,\n",
    "                                     scale_nominal_param_value=True, \n",
    "                                     tee=False,)\n",
    "\n",
    "    FIM_new = TC_Lab_DoE.compute_FIM(method='sequential')\n",
    "\n",
    "    # Create a new DoE object\n",
    "    TC_Lab_DoE = DesignOfExperiments(experiment=doe_experiment, \n",
    "                                     step=1e-2,\n",
    "                                     scale_constant_value=1,\n",
    "                                     scale_nominal_param_value=True,\n",
    "                                     objective_option=\"trace\",  # We specify a type of objective, A-opt = \"trace\"\n",
    "                                     prior_FIM=FIM,  # We use the prior information from the original experiment\n",
    "                                     tee=False,)\n",
    "    \n",
    "    TC_Lab_DoE.run_doe()\n",
    "\n",
    "    \n",
    "    pyomo_results = extract_results(TC_Lab_DoE.model.scenario_blocks[0])\n",
    "\n",
    "    results_summary(TC_Lab_DoE.results['FIM'])\n",
    "\n",
    "    a_opt[i] = np.log10(np.trace(TC_Lab_DoE.results['FIM']))\n",
    "    u_solutions[i, :] = pyomo_results.u1\n",
    "    Ts_solutions[i, :] = pyomo_results.TS1_data\n",
    "\n",
    "    print(\"********************\\n\")"
   ]
  },
  {
   "cell_type": "markdown",
   "metadata": {},
   "source": [
    "Now let's visualize how the *A-optimality objective* changes as a function of $C_p^S$."
   ]
  },
  {
   "cell_type": "code",
   "execution_count": null,
   "metadata": {},
   "outputs": [],
   "source": [
    "import matplotlib.pyplot as plt\n",
    "\n",
    "plt.semilogx(CpS_values, a_opt, marker='o')\n",
    "plt.xlabel('$C_p^S$ ( J / °C )')\n",
    "plt.ylabel('log$_{10}$( trace(FIM) )')\n",
    "plt.show()"
   ]
  },
  {
   "cell_type": "markdown",
   "metadata": {},
   "source": [
    "We see the objective changes insignificantly as we vary $C_p^S$. What about the optimal solution?"
   ]
  },
  {
   "cell_type": "code",
   "execution_count": null,
   "metadata": {},
   "outputs": [],
   "source": [
    "for i, v in enumerate(CpS_values):\n",
    "    plt.plot(tc_data.time, u_solutions[i, :], label=f'$C_p^S$ = {v}')\n",
    "plt.legend(ncol=2, loc='best')\n",
    "plt.xlabel('Time (s)')\n",
    "plt.ylabel('Heater Power (%)')\n",
    "plt.show()"
   ]
  },
  {
   "cell_type": "markdown",
   "metadata": {},
   "source": [
    "Interesting, the A-optimal next experiment does change on the assumed value of $C_p^S$. For small values of $C_p^S$, the optimal solutions are similar: start around $u_1 = 100$% and then decreases as the experiment progresses. As $C_p^S$ increases, the length of time spent at 100% power increases.\n",
    "\n",
    "Let's also look at the optimal sensor temperature profile:"
   ]
  },
  {
   "cell_type": "code",
   "execution_count": null,
   "metadata": {},
   "outputs": [],
   "source": [
    "for i, v in enumerate(CpS_values):\n",
    "    plt.plot(tc_data.time, Ts_solutions[i, :], label=f'$C_p^S$ = {v}')\n",
    "plt.legend(ncol=2, loc='best')\n",
    "plt.xlabel('Time (s)')\n",
    "plt.ylabel('Sensor Temperature (°C)')\n",
    "plt.show()"
   ]
  },
  {
   "cell_type": "markdown",
   "metadata": {},
   "source": [
    "Now to be pragmatic. What should we do with this information? Here are some suggested next steps:\n",
    "- Confirm that these optimal experiments are all very informative for all of the values of $C_p^S$. If this is the case, we can pick on, perform the experiment, and then refit our model.\n",
    "- Explore alternate formulations of MBDoE that consider uncertainty. We are working on a major overhaul of Pyomo.DoE that will make this much easier."
   ]
  },
  {
   "cell_type": "code",
   "execution_count": null,
   "metadata": {},
   "outputs": [],
   "source": []
  }
 ],
 "metadata": {
  "kernelspec": {
   "display_name": "controls",
   "language": "python",
   "name": "python3"
  },
  "language_info": {
   "codemirror_mode": {
    "name": "ipython",
    "version": 3
   },
   "file_extension": ".py",
   "mimetype": "text/x-python",
   "name": "python",
   "nbconvert_exporter": "python",
   "pygments_lexer": "ipython3",
   "version": "3.10.15"
  }
 },
 "nbformat": 4,
 "nbformat_minor": 4
}
