{
 "cells": [
  {
   "cell_type": "markdown",
   "metadata": {},
   "source": [
    "# Exercise: ParmEst"
   ]
  },
  {
   "cell_type": "markdown",
   "metadata": {},
   "source": [
    "In this exercise, you will practice using ParmEst to estimate four parameters ($U_a$, $U_b$, $C_p^H$, $C_p^S$) in the TCLab model using the step test data. We [previously estimated these parameters using the sine test data](../notebooks/parmest.ipynb)."
   ]
  },
  {
   "cell_type": "code",
   "execution_count": null,
   "metadata": {},
   "outputs": [],
   "source": [
    "import sys\n",
    "\n",
    "# If running on Google Colab, install Pyomo and Ipopt via IDAES\n",
    "on_colab = \"google.colab\" in sys.modules\n",
    "if on_colab:\n",
    "    !wget \"https://raw.githubusercontent.com/dowlinglab/pyomo-doe/main/notebooks/tclab_pyomo.py\"\n",
    "else:\n",
    "    import os\n",
    "\n",
    "    if \"exercise_solutions\" in os.getcwd():\n",
    "        # Add the \"notebooks\" folder to the path\n",
    "        # This is needed for running the solutions from a separate folder\n",
    "        # You only need this if you run locally\n",
    "        sys.path.append('../notebooks')\n",
    "\n",
    "# import TCLab model, simulation, and data analysis functions\n",
    "from tclab_pyomo import (\n",
    "    TC_Lab_data,\n",
    "    TC_Lab_experiment,\n",
    "    extract_results,\n",
    "    extract_plot_results,\n",
    ")\n",
    "\n",
    "# set default number of states in the TCLab model\n",
    "number_tclab_states = 2"
   ]
  },
  {
   "cell_type": "markdown",
   "metadata": {},
   "source": [
    "## Load and explore experimental data (step test)"
   ]
  },
  {
   "cell_type": "code",
   "execution_count": null,
   "metadata": {},
   "outputs": [],
   "source": [
    "import pandas as pd\n",
    "\n",
    "if on_colab:\n",
    "    file = \"https://raw.githubusercontent.com/dowlinglab/pyomo-doe/main/data/tclab_step_test.csv\"\n",
    "else:\n",
    "    file = '../data/tclab_step_test.csv'\n",
    "df = pd.read_csv(file)\n",
    "df.head()"
   ]
  },
  {
   "cell_type": "markdown",
   "metadata": {},
   "source": [
    "Make two plots to visualize the temperature and heat power data as a function of time."
   ]
  },
  {
   "cell_type": "code",
   "execution_count": null,
   "metadata": {},
   "outputs": [],
   "source": [
    "# Add your solution here"
   ]
  },
  {
   "cell_type": "code",
   "execution_count": null,
   "metadata": {},
   "outputs": [],
   "source": [
    "# Add your solution here"
   ]
  },
  {
   "cell_type": "markdown",
   "metadata": {},
   "source": [
    "We'll now store the data in this custom *data class* objective. This is a nice trick to help keep data organized, but it is NOT required to use ParmEst or Pyomo data. Alternatively, we could just use a pandas DataFrame."
   ]
  },
  {
   "cell_type": "code",
   "execution_count": null,
   "metadata": {},
   "outputs": [],
   "source": [
    "tc_data = TC_Lab_data(\n",
    "    name=\"Step Test for Heater 1\",\n",
    "    time=df['Time'].values,\n",
    "    T1=df['T1'].values,\n",
    "    u1=df['Q1'].values,\n",
    "    P1=200,\n",
    "    TS1_data=None,\n",
    "    T2=df['T2'].values,\n",
    "    u2=df['Q2'].values,\n",
    "    P2=200,\n",
    "    TS2_data=None,\n",
    "    Tamb=df['T1'].values[0],\n",
    ")"
   ]
  },
  {
   "cell_type": "markdown",
   "metadata": {},
   "source": [
    "Our custom data class has a method to export the data as a Pandas Data Frame."
   ]
  },
  {
   "cell_type": "code",
   "execution_count": null,
   "metadata": {},
   "outputs": [],
   "source": [
    "tc_data.to_data_frame().head()"
   ]
  },
  {
   "cell_type": "markdown",
   "metadata": {},
   "source": [
    "## Parameter estimation with ParmEst\n",
    "\n",
    "Now for the main event: performing nonlinear least squares with `ParmEst`.\n",
    "\n"
   ]
  },
  {
   "cell_type": "code",
   "execution_count": null,
   "metadata": {},
   "outputs": [],
   "source": [
    "# Call ParmEst\n",
    "# Add your solution here\n",
    "\n",
    "# Visualize the results using our custom function\n",
    "# Add your solution here\n",
    "\n",
    "\n",
    "# Add your solution here"
   ]
  },
  {
   "cell_type": "markdown",
   "metadata": {},
   "source": [
    "**Discussion**: How do these results compare to our [previous analysis](../notebooks/parmest.ipynb)?"
   ]
  },
  {
   "cell_type": "markdown",
   "metadata": {},
   "source": []
  }
 ],
 "metadata": {
  "kernelspec": {
   "display_name": "Python 3 (ipykernel)",
   "language": "python",
   "name": "python3"
  },
  "language_info": {
   "codemirror_mode": {
    "name": "ipython",
    "version": 3
   },
   "file_extension": ".py",
   "mimetype": "text/x-python",
   "name": "python",
   "nbconvert_exporter": "python",
   "pygments_lexer": "ipython3",
   "version": "3.10.14"
  }
 },
 "nbformat": 4,
 "nbformat_minor": 4
}
